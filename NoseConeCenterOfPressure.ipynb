{
 "cells": [
  {
   "cell_type": "markdown",
   "metadata": {},
   "source": [
    "# Nose Cone Center of Pressure Calculations\n",
    "\n",
    "\n",
    "\n",
    "See ['The Descriptive Geometry of Nose Cones'](http://servidor.demec.ufpr.br/CFD/bibliografia/aerodinamica/Crowell_1996.pdf) written by Gary A. Crowell Sr. for deeper explanations."
   ]
  }
 ],
 "metadata": {
  "language_info": {
   "name": "python"
  },
  "orig_nbformat": 4
 },
 "nbformat": 4,
 "nbformat_minor": 2
}
